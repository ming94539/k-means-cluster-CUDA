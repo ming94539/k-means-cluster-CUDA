{
 "cells": [
  {
   "cell_type": "code",
   "execution_count": 43,
   "metadata": {
    "scrolled": true
   },
   "outputs": [
    {
     "data": {
      "image/png": "[encoded data removed]",
      "text/plain": [
       "<Figure size 432x288 with 1 Axes>"
      ]
     },
     "metadata": {
      "needs_background": "light"
     },
     "output_type": "display_data"
    },
    {
     "name": "stdout",
     "output_type": "stream",
     "text": [
      "--- 25977.751570224762 seconds ---\n"
     ]
    }
   ],
   "source": [
    "# K means cluster for two dimensional space\n",
    "\n",
    "import random\n",
    "import math\n",
    "import matplotlib.pyplot as plot\n",
    "import numpy as np\n",
    "import time\n",
    "\n",
    "\n",
    "\n",
    "def k_means(k,iterations,n,highest_range):\n",
    "    def create_data(highest,n):\n",
    "        x,y =[],[]\n",
    "        for i in range(n):\n",
    "            x.append(random.randint(0,highest))\n",
    "            y.append(random.randint(0,highest))\n",
    "        return x,y\n",
    "\n",
    "    k_points_x, k_points_y = create_data(highest_range,k)\n",
    "    #Assign each centroid a cluster colour\n",
    "    cluster_colors = []\n",
    "    for i in range(k):\n",
    "        cluster_colors.append(np.random.rand(1,3))\n",
    "\n",
    "\n",
    "    def splot(data_x,data_y,assigments):\n",
    "        for i in range(len(k_points_x)):\n",
    "            plot.scatter(k_points_x[i],k_points_y[i],c='red')\n",
    "        for i in range(len(assigments)):\n",
    "                plot.scatter(data_x[i],data_y[i],c=cluster_colors[assignments[i]])\n",
    "        plot.show()\n",
    "\n",
    "\n",
    "    data_x,data_y = create_data(highest_range,n)\n",
    "    assignments = []\n",
    "    # plot.scatter(data_x, data_y)\n",
    "    assignments = [] #each index correspond to a dp, each value of index correspond to that dp's assigned cluster\n",
    "\n",
    "    #Start K Means Algorithm (Run time wise)\n",
    "    start_time = time.time()\n",
    "\n",
    "    for i in range(iterations):\n",
    "        for dp in range(n):\n",
    "            closest = 10000\n",
    "            smallest_distance = 1000\n",
    "            for centroid_i in range(k):\n",
    "                distance = math.sqrt(sum([(data_x[dp]-k_points_x[centroid_i])**2,(data_y[dp]-k_points_y[centroid_i])**2]))\n",
    "                if distance < smallest_distance:\n",
    "                    closest = centroid_i\n",
    "                    smallest_distance = distance\n",
    "            if i == 0:#first iteration when no values initiated\n",
    "                assignments.append(closest)\n",
    "            else:\n",
    "                assignments[dp] = closest\n",
    "        #splot(data_x,data_y,assignments)# plot its closest centroids in this iteration\n",
    "        #recalculation starts\n",
    "        for centroid_i in range(k):\n",
    "            x_total = 0\n",
    "            y_total = 0\n",
    "            counter = 0\n",
    "            for dp in range(n):\n",
    "                if assignments[dp] == centroid_i:\n",
    "                    x_total += data_x[dp]\n",
    "                    y_total += data_y[dp]\n",
    "                    counter +=1\n",
    "            k_points_x[centroid_i] = x_total/counter\n",
    "            k_points_y[centroid_i] = y_total/counter\n",
    "    splot(data_x,data_y,assignments)# plot its closest centroids in this iteration\n",
    "    duration = time.time() - start_time\n",
    "    print(\"--- %s seconds ---\" % (duration))\n",
    "    return duration\n",
    "\n",
    "# The Main Function\n",
    "k = 5\n",
    "iterations = 5\n",
    "highest_range = 1000 #range of the data space\n",
    "n_list = [100000]\n",
    "durations = []\n",
    "for n in n_list:\n",
    "    durations.append(k_means(k,iterations,n,highest_range))\n"
   ]
  },
  {
   "cell_type": "code",
   "execution_count": 44,
   "metadata": {},
   "outputs": [
    {
     "data": {
      "text/plain": [
       "[25977.751570224762]"
      ]
     },
     "execution_count": 44,
     "metadata": {},
     "output_type": "execute_result"
    }
   ],
   "source": [
    "durations #0.28368592262268066, 0.40253400802612305, 5.481091022491455, 231.18355202674866, 25977.751570224762"
   ]
  },
  {
   "cell_type": "code",
   "execution_count": 32,
   "metadata": {},
   "outputs": [],
   "source": []
  },
  {
   "cell_type": "code",
   "execution_count": 35,
   "metadata": {},
   "outputs": [
    {
     "name": "stdout",
     "output_type": "stream",
     "text": [
      "[6, 4]\n"
     ]
    }
   ],
   "source": []
  },
  {
   "cell_type": "code",
   "execution_count": null,
   "metadata": {},
   "outputs": [],
   "source": [
    "def k_means(data, k, number_of_iterations):\n",
    "    n = len(data)\n",
    "    number_of_features = data.shape[1]\n",
    "    # Pick random indices for the initial centroids.\n",
    "    initial_indices = np.random.choice(range(n), k)\n",
    "    # We keep the centroids as |features| x k matrix.\n",
    "    means = data[initial_indices].T\n",
    "    # To avoid loops, we repeat the data k times depthwise and compute the\n",
    "    # distance from each point to each centroid in one step in a\n",
    "    # n x |features| x k tensor.\n",
    "    repeated_data = np.stack([data] * k, axis=-1)\n",
    "    all_rows = np.arange(n)\n",
    "    zero = np.zeros([1, 1, 2])\n",
    "    for _ in range(number_of_iterations):\n",
    "        # Broadcast means across the repeated data matrix, gives us a\n",
    "        # n x k matrix of distances.\n",
    "        distances = np.sum(np.square(repeated_data - means), axis=1)\n",
    "        # Find the index of the smallest distance (closest cluster) for each\n",
    "        # point.\n",
    "        assignment = np.argmin(distances, axis=-1)\n",
    "        # Again to avoid a loop, we'll create a sparse matrix with k slots for\n",
    "        # each point and fill exactly the one slot that the point was assigned\n",
    "        # to. Then we reduce across all points to give us the sum of points for\n",
    "        # each cluster.\n",
    "        sparse = np.zeros([n, k, number_of_features])\n",
    "        sparse[all_rows, assignment] = data\n",
    "        # To compute the correct mean, we need to know how many points are\n",
    "        # assigned to each cluster (without a loop).\n",
    "        counts = (sparse != zero).sum(axis=0)\n",
    "        # Compute new assignments.\n",
    "        means = sparse.sum(axis=0).T / counts.clip(min=1).T\n",
    "    return means.T\n"
   ]
  }
 ],
 "metadata": {
  "kernelspec": {
   "display_name": "Python 3",
   "language": "python",
   "name": "python3"
  },
  "language_info": {
   "codemirror_mode": {
    "name": "ipython",
    "version": 3
   },
   "file_extension": ".py",
   "mimetype": "text/x-python",
   "name": "python",
   "nbconvert_exporter": "python",
   "pygments_lexer": "ipython3",
   "version": "3.7.4"
  }
 },
 "nbformat": 4,
 "nbformat_minor": 4
}
